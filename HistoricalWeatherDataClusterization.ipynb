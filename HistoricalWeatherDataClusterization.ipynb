{
  "cells": [
    {
      "cell_type": "markdown",
      "metadata": {
        "id": "view-in-github",
        "colab_type": "text"
      },
      "source": [
        "<a href=\"https://colab.research.google.com/github/CarolKSD/Weather_Data_Clusterization/blob/main/HistoricalWeatherDataClusterization.ipynb\" target=\"_parent\"><img src=\"https://colab.research.google.com/assets/colab-badge.svg\" alt=\"Open In Colab\"/></a>"
      ]
    },
    {
      "cell_type": "code",
      "execution_count": null,
      "metadata": {
        "id": "aaazGe082Jr0"
      },
      "outputs": [],
      "source": [
        "# Import libraries\n",
        "import pandas as pd\n",
        "import numpy as np\n",
        "import matplotlib.pyplot as plt\n",
        "import seaborn as sns\n",
        "from sklearn.preprocessing import StandardScaler\n",
        "from sklearn.cluster import KMeans\n",
        "from sklearn.decomposition import PCA\n",
        "import folium"
      ]
    },
    {
      "cell_type": "code",
      "execution_count": null,
      "metadata": {
        "id": "slLz9Gv921Sf"
      },
      "outputs": [],
      "source": [
        "# Load the dataset\n",
        "from google.colab import drive\n",
        "drive.mount('/content/drive')\n",
        "\n",
        "data = pd.read_csv('/content/drive/MyDrive/Colab Notebooks/daily_weather_data.csv')\n",
        "\n",
        "# Display the first rows of the dataset\n",
        "print(\"Initial data preview:\")\n",
        "print(data.head())\n",
        "print(\"\\nDataset information:\")\n",
        "print(data.info())"
      ]
    },
    {
      "cell_type": "code",
      "execution_count": null,
      "metadata": {
        "id": "NbtF7h6i_RhP"
      },
      "outputs": [],
      "source": [
        "# Rename columns for better readability\n",
        "data.rename(columns={\n",
        "    'date': 'Date',\n",
        "    'country': 'Country',\n",
        "    'city': 'City',\n",
        "    'tavg': 'Avg Temperature (°C)',\n",
        "    'tmin': 'Min Temperature (°C)',\n",
        "    'tmax': 'Max Temperature (°C)',\n",
        "    'wdir': 'Wind Direction (°)',\n",
        "    'wspd': 'Wind Speed (m/s)',\n",
        "    'pres': 'Pressure (hPa)'\n",
        "\n",
        "}, inplace=True)\n",
        "\n",
        "# Set Date, Country, and City as the multi-index\n",
        "data.set_index(['Date', 'Country', 'City'], inplace=True)"
      ]
    },
    {
      "cell_type": "code",
      "execution_count": null,
      "metadata": {
        "id": "YdcQ8bRcCM6g"
      },
      "outputs": [],
      "source": [
        "data.head()"
      ]
    },
    {
      "cell_type": "code",
      "execution_count": null,
      "metadata": {
        "id": "NiDJm8nm22IZ"
      },
      "outputs": [],
      "source": [
        "# ------------------------------\n",
        "# 1. EXPLORATORY DATA ANALYSIS (EDA)\n",
        "# ------------------------------\n",
        "\n",
        "# Describe basic statistics of the dataset\n",
        "print(\"\\nDescriptive statistics:\")\n",
        "print(data.describe())"
      ]
    },
    {
      "cell_type": "code",
      "execution_count": null,
      "metadata": {
        "id": "_lq615rx8DTA"
      },
      "outputs": [],
      "source": [
        "# Check for missing values\n",
        "print(\"\\nMissing values in each column:\")\n",
        "print(data.isnull().sum())"
      ]
    },
    {
      "cell_type": "code",
      "execution_count": null,
      "metadata": {
        "id": "Gr0-h_4p8H-O"
      },
      "outputs": [],
      "source": [
        "# Plot distributions of numerical features\n",
        "numeric_features = ['Avg Temperature (°C)', 'Min Temperature (°C)', 'Max Temperature (°C)',\n",
        "                    'Wind Direction (°)', 'Wind Speed (m/s)', 'Pressure (hPa)', ]\n",
        "data[numeric_features].hist(figsize=(12, 8), bins=20, color='skyblue', edgecolor='black')\n",
        "plt.suptitle(\"Distributions of Climatic Variables\", fontsize=16)\n",
        "plt.show()"
      ]
    },
    {
      "cell_type": "code",
      "execution_count": null,
      "metadata": {
        "id": "3Ow89tL2VDDu"
      },
      "outputs": [],
      "source": [
        "# Identify city and country with the highest and lowest temperatures\n",
        "\n",
        "# Highest average temperature\n",
        "max_temp_row = data.loc[data['Avg Temperature (°C)'].idxmax()]\n",
        "print(\"\\nCity and country with the highest average temperature:\")\n",
        "print(f\"Date: {max_temp_row.name[0]}, Country: {max_temp_row.name[1]}, City: {max_temp_row.name[2]}\")\n",
        "print(f\"Avg Temperature: {max_temp_row['Avg Temperature (°C)']} °C\")\n",
        "\n",
        "# Lowest average temperature\n",
        "min_temp_row = data.loc[data['Avg Temperature (°C)'].idxmin()]\n",
        "print(\"\\nCity and country with the lowest average temperature:\")\n",
        "print(f\"Date: {min_temp_row.name[0]}, Country: {min_temp_row.name[1]}, City: {min_temp_row.name[2]}\")\n",
        "print(f\"Avg Temperature: {min_temp_row['Avg Temperature (°C)']} °C\")"
      ]
    },
    {
      "cell_type": "code",
      "execution_count": null,
      "metadata": {
        "id": "l26Idm398I3x"
      },
      "outputs": [],
      "source": [
        "# Correlation analysis\n",
        "plt.figure(figsize=(10, 6))\n",
        "sns.heatmap(data[numeric_features].corr(), annot=True, cmap='coolwarm', fmt=\".2f\")\n",
        "plt.title(\"Correlation Heatmap of Climatic Variables\", fontsize=14)\n",
        "plt.show()"
      ]
    },
    {
      "cell_type": "code",
      "execution_count": null,
      "metadata": {
        "id": "BVPSu6Sf8Oeo"
      },
      "outputs": [],
      "source": [
        "# Calculate number of rows and columns for subplots\n",
        "num_features = len(numeric_features)\n",
        "num_cols = 3\n",
        "num_rows = (num_features // num_cols) + (num_features % num_cols > 0)\n",
        "\n",
        "# Plot boxplots for outlier detection\n",
        "plt.figure(figsize=(15, 5 * num_rows))\n",
        "for i, feature in enumerate(numeric_features):\n",
        "    plt.subplot(num_rows, num_cols, i + 1)\n",
        "    sns.boxplot(data[feature], color='lightblue')\n",
        "    plt.title(f\"Boxplot of {feature}\")\n",
        "plt.tight_layout()\n",
        "plt.show()"
      ]
    },
    {
      "cell_type": "code",
      "execution_count": null,
      "metadata": {
        "id": "CjXTNDQ029OT"
      },
      "outputs": [],
      "source": [
        "# ------------------------------\n",
        "# 2. DATA CLEANING\n",
        "# ------------------------------\n",
        "\n",
        "# Replace missing values with the mean of each column\n",
        "data.fillna(data.mean(), inplace=True)\n",
        "print(\"\\nData after handling missing values:\")\n",
        "print(data.isnull().sum())"
      ]
    },
    {
      "cell_type": "code",
      "execution_count": null,
      "metadata": {
        "id": "Oer54LbLWADU"
      },
      "outputs": [],
      "source": [
        "# ------------------------------\n",
        "# 3. FEATURE ENGINEERING: WIND COMPONENTS\n",
        "# ------------------------------\n",
        "\n",
        "# Calculate U and V components from wind speed and direction\n",
        "data['U Component'] = data['Wind Speed (m/s)'] * np.cos(np.radians(data['Wind Direction (°)']))\n",
        "data['V Component'] = data['Wind Speed (m/s)'] * np.sin(np.radians(data['Wind Direction (°)']))"
      ]
    },
    {
      "cell_type": "code",
      "execution_count": null,
      "metadata": {
        "id": "enzPtYH33CGi"
      },
      "outputs": [],
      "source": [
        "# ------------------------------\n",
        "# 4. NORMALIZATION\n",
        "# ------------------------------\n",
        "\n",
        "# Select columns for clustering\n",
        "features = ['Avg Temperature (°C)', 'Min Temperature (°C)', 'Max Temperature (°C)',\n",
        "            'Wind Speed (m/s)', 'Pressure (hPa)', 'U Component', 'V Component']\n",
        "climate_data = data[features]\n",
        "\n",
        "# Normalize the data\n",
        "scaler = StandardScaler()\n",
        "scaled_data = scaler.fit_transform(climate_data)\n",
        "\n",
        "print(\"\\nFirst rows of normalized data:\")\n",
        "print(pd.DataFrame(scaled_data, columns=features).head())\n"
      ]
    },
    {
      "cell_type": "code",
      "execution_count": null,
      "metadata": {
        "id": "D5etV6AR3Iac"
      },
      "outputs": [],
      "source": [
        "# ------------------------------\n",
        "# 5. FINDING THE OPTIMAL NUMBER OF CLUSTERS (Elbow Method)\n",
        "# ------------------------------\n",
        "\n",
        "inertia = []\n",
        "for k in range(1, 11):\n",
        "    kmeans = KMeans(n_clusters=k, random_state=42)\n",
        "    kmeans.fit(scaled_data)\n",
        "    inertia.append(kmeans.inertia_)\n",
        "\n",
        "# Plot the Elbow Method graph\n",
        "plt.figure(figsize=(8, 5))\n",
        "plt.plot(range(1, 11), inertia, marker='o', linestyle='--', color='b')\n",
        "plt.title(\"Elbow Method\", fontsize=14)\n",
        "plt.xlabel(\"Number of Clusters\")\n",
        "plt.ylabel(\"Inertia\")\n",
        "plt.xticks(range(1, 11))\n",
        "plt.show()"
      ]
    },
    {
      "cell_type": "code",
      "execution_count": null,
      "metadata": {
        "id": "IySF4HD93NMM"
      },
      "outputs": [],
      "source": [
        "# ------------------------------\n",
        "# 6. APPLYING K-MEANS\n",
        "# ------------------------------\n",
        "\n",
        "# Choose the number of clusters based on the Elbow Method\n",
        "n_clusters = 3\n",
        "kmeans = KMeans(n_clusters=n_clusters, random_state=42)\n",
        "data['Cluster'] = kmeans.fit_predict(scaled_data)\n",
        "\n",
        "# Display the first results\n",
        "print(\"\\nData with assigned clusters:\")\n",
        "print(data[['Cluster']].head())"
      ]
    },
    {
      "cell_type": "code",
      "execution_count": null,
      "metadata": {
        "id": "iPH_2P_Q3gZS"
      },
      "outputs": [],
      "source": [
        "# ------------------------------\n",
        "# 7. SAVE RESULTS\n",
        "# ------------------------------\n",
        "\n",
        "# Save the updated data to a new CSV file\n",
        "data.to_csv('clustered_weather_data.csv', index=False)\n",
        "print(\"\\nResults saved as 'clustered_weather_data.csv'!\")"
      ]
    },
    {
      "cell_type": "code",
      "execution_count": null,
      "metadata": {
        "id": "BUfwj5_c3R8S"
      },
      "outputs": [],
      "source": [
        "# ------------------------------\n",
        "# 8. CLUSTER ANALYSIS\n",
        "# ------------------------------\n",
        "\n",
        "# Statistical summary by cluster\n",
        "cluster_summary = data.groupby('Cluster')[features].mean()\n",
        "print(\"\\nCluster summary:\")\n",
        "print(cluster_summary)\n",
        "\n",
        "# Plot average characteristics of each cluster\n",
        "cluster_summary.T.plot(kind='bar', figsize=(10, 6))\n",
        "plt.title(\"Average Characteristics by Cluster\", fontsize=14)\n",
        "plt.ylabel(\"Normalized Values\")\n",
        "plt.xticks(rotation=30)\n",
        "plt.show()"
      ]
    },
    {
      "cell_type": "code",
      "execution_count": null,
      "metadata": {
        "id": "x2iu3eH83Wls"
      },
      "outputs": [],
      "source": [
        "# ------------------------------\n",
        "# 9. VISUALIZATION IN 2D USING PCA\n",
        "# ------------------------------\n",
        "\n",
        "# Reduce the data to 2 dimensions\n",
        "pca = PCA(n_components=2)\n",
        "reduced_data = pca.fit_transform(scaled_data)\n",
        "\n",
        "# Create a DataFrame with the principal components\n",
        "reduced_df = pd.DataFrame(reduced_data, columns=['PCA1', 'PCA2'], index=data.index)\n",
        "reduced_df['Cluster'] = data['Cluster']\n",
        "\n",
        "# Plot the clusters in 2D\n",
        "plt.figure(figsize=(8, 6))\n",
        "sns.scatterplot(data=reduced_df, x='PCA1', y='PCA2', hue='Cluster', palette='viridis', s=100)\n",
        "plt.title(\"Clusters of Capitals Based on Climate (PCA)\", fontsize=14)\n",
        "plt.xlabel(\"PCA 1\")\n",
        "plt.ylabel(\"PCA 2\")\n",
        "plt.legend(title=\"Cluster\")\n",
        "plt.show()"
      ]
    },
    {
      "cell_type": "code",
      "execution_count": null,
      "metadata": {
        "id": "pSFc_FEGjuIZ"
      },
      "outputs": [],
      "source": [
        "# Group by cluster and count countries and cities\n",
        "cluster_summary = data.reset_index().groupby('Cluster')[['Country', 'City']].agg(['unique', 'count'])\n",
        "\n",
        "# Display the summary\n",
        "print(\"Summary of Countries and Cities in Each Cluster:\")\n",
        "print(cluster_summary)"
      ]
    },
    {
      "cell_type": "code",
      "execution_count": null,
      "metadata": {
        "id": "YdR6RQanoVDx"
      },
      "outputs": [],
      "source": [
        "# Save the summary to a CSV file\n",
        "cluster_summary.to_csv('cluster_summary.csv')\n",
        "print(\"Cluster summary saved to 'cluster_summary.csv'.\")"
      ]
    },
    {
      "cell_type": "code",
      "execution_count": null,
      "metadata": {
        "id": "mNMwIRBTk_k3"
      },
      "outputs": [],
      "source": [
        "# Define a function to categorize seasons\n",
        "def get_season(month):\n",
        "    if month in [12, 1, 2]:\n",
        "        return 'Winter'\n",
        "    elif month in [3, 4, 5]:\n",
        "        return 'Spring'\n",
        "    elif month in [6, 7, 8]:\n",
        "        return 'Summer'\n",
        "    else:\n",
        "        return 'Fall'\n",
        "\n",
        "# Extract the month from the date index and assign seasons\n",
        "data['Season'] = pd.to_datetime(data.index.get_level_values('Date')).month.map(get_season) # Convert 'Date' level to DatetimeIndex\n",
        "# Group by season and cluster\n",
        "seasonal_summary = data.groupby(['Season', 'Cluster']).mean()\n",
        "\n",
        "# Display seasonal summary\n",
        "print(\"\\nSeasonal Characteristics by Cluster:\")\n",
        "print(seasonal_summary)"
      ]
    },
    {
      "cell_type": "code",
      "execution_count": null,
      "metadata": {
        "id": "5DAuPSHMmeG0"
      },
      "outputs": [],
      "source": [
        "# Seasonal distribution of clusters\n",
        "seasonal_distribution = data.groupby(['Season', 'Cluster']).size().unstack()\n",
        "\n",
        "# Plot the seasonal distribution\n",
        "seasonal_distribution.plot(kind='bar', figsize=(10, 6), stacked=True)\n",
        "plt.title(\"Seasonal Distribution of Clusters\")\n",
        "plt.xlabel(\"Season\")\n",
        "plt.ylabel(\"Number of Locations\")\n",
        "plt.legend(title=\"Cluster\")\n",
        "plt.show()"
      ]
    },
    {
      "cell_type": "code",
      "execution_count": null,
      "metadata": {
        "id": "XPiEkejyOaNd"
      },
      "outputs": [],
      "source": [
        "!pip install keplergl"
      ]
    },
    {
      "cell_type": "code",
      "source": [
        "from google.colab import output\n",
        "output.enable_custom_widget_manager()"
      ],
      "metadata": {
        "id": "cLFIA0Iu1qbm"
      },
      "execution_count": null,
      "outputs": []
    },
    {
      "cell_type": "code",
      "execution_count": null,
      "metadata": {
        "id": "ALlBq7UjOtXh"
      },
      "outputs": [],
      "source": [
        "from keplergl import KeplerGl\n",
        "\n",
        "# Map color assignment\n",
        "color_mapping = {\n",
        "    0: [0, 0, 255],  # Blue\n",
        "    1: [0, 255, 0],  # Green\n",
        "    2: [255, 0, 0]   # Red\n",
        "}\n",
        "\n",
        "# Add a column for Kepler colors\n",
        "data['Kepler Color'] = data['Cluster'].map(color_mapping)\n",
        "\n",
        "# Create a Kepler map with colors\n",
        "kepler_map = KeplerGl(height=600)\n",
        "kepler_map.add_data(data=data.reset_index(), name=\"Weather Clusters\")\n",
        "\n",
        "# Display the map\n",
        "kepler_map"
      ]
    },
    {
      "cell_type": "code",
      "source": [
        "kepler_map.save_to_html(file_name='kepler_weather_map_final.html')"
      ],
      "metadata": {
        "id": "rmxA3M7d4MIw"
      },
      "execution_count": null,
      "outputs": []
    }
  ],
  "metadata": {
    "colab": {
      "provenance": [],
      "authorship_tag": "ABX9TyM6mCP2IKOWVvGpz/tf2M3I",
      "include_colab_link": true
    },
    "kernelspec": {
      "display_name": "Python 3",
      "name": "python3"
    },
    "language_info": {
      "name": "python"
    }
  },
  "nbformat": 4,
  "nbformat_minor": 0
}